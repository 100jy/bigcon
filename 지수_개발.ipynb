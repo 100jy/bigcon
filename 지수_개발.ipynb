{
  "nbformat": 4,
  "nbformat_minor": 0,
  "metadata": {
    "colab": {
      "name": "지수_개발.ipynb",
      "provenance": [],
      "collapsed_sections": [],
      "include_colab_link": true
    },
    "kernelspec": {
      "name": "python3",
      "display_name": "Python 3"
    }
  },
  "cells": [
    {
      "cell_type": "markdown",
      "metadata": {
        "id": "view-in-github",
        "colab_type": "text"
      },
      "source": [
        "<a href=\"https://colab.research.google.com/github/100jy/bigcon/blob/master/%EC%A7%80%EC%88%98_%EA%B0%9C%EB%B0%9C.ipynb\" target=\"_parent\"><img src=\"https://colab.research.google.com/assets/colab-badge.svg\" alt=\"Open In Colab\"/></a>"
      ]
    },
    {
      "cell_type": "code",
      "metadata": {
        "id": "PWbrPKm7kkvq",
        "colab_type": "code",
        "colab": {
          "base_uri": "https://localhost:8080/",
          "height": 131
        },
        "outputId": "78e9da55-865c-40df-f1d5-57480a221a21"
      },
      "source": [
        "#구글 드라이브 연동\n",
        "from google.colab import drive\n",
        "drive.mount('/content/drive')"
      ],
      "execution_count": null,
      "outputs": [
        {
          "output_type": "stream",
          "text": [
            "Go to this URL in a browser: https://accounts.google.com/o/oauth2/auth?client_id=947318989803-6bn6qk8qdgf4n4g3pfee6491hc0brc4i.apps.googleusercontent.com&redirect_uri=urn%3aietf%3awg%3aoauth%3a2.0%3aoob&scope=email%20https%3a%2f%2fwww.googleapis.com%2fauth%2fdocs.test%20https%3a%2f%2fwww.googleapis.com%2fauth%2fdrive%20https%3a%2f%2fwww.googleapis.com%2fauth%2fdrive.photos.readonly%20https%3a%2f%2fwww.googleapis.com%2fauth%2fpeopleapi.readonly&response_type=code\n",
            "\n",
            "Enter your authorization code:\n",
            "··········\n",
            "Mounted at /content/drive\n"
          ],
          "name": "stdout"
        }
      ]
    },
    {
      "cell_type": "code",
      "metadata": {
        "id": "9Ko83WKWGAUH",
        "colab_type": "code",
        "colab": {}
      },
      "source": [
        "import pandas as pd\n",
        "import numpy as np\n",
        "import matplotlib.pyplot as plt\n",
        "def set_font(size = 18):\n",
        "  #한글폰트\n",
        "  import matplotlib.font_manager as fm\n",
        "  path = '/content/drive/My Drive/bigcon/NanumBarunGothic.ttf'\n",
        "  fontprop = fm.FontProperties(fname=path, size=size)\n",
        "  return fontprop"
      ],
      "execution_count": null,
      "outputs": []
    },
    {
      "cell_type": "code",
      "metadata": {
        "id": "_X-IROC-l7Yc",
        "colab_type": "code",
        "colab": {}
      },
      "source": [
        "# 소비형태의 온라인으로 전환\n",
        "## 디지털 취약계층은 접근의 어려움\n",
        "### 위험에도 불구하고 오프라인 거래를 하거나, 상대적으로 소비가 위축\n",
        "#### 모두를 위한 접급성 높은 온라인 커머스 시스템 개발을 통해 격차를 해소\n",
        "##### 소비 활성화 효과 극대화 -> 지역상인들이 수수료없이 플랫폼을 이용할 수 있게"
      ],
      "execution_count": null,
      "outputs": []
    },
    {
      "cell_type": "markdown",
      "metadata": {
        "id": "7bCjN23Z-RdI",
        "colab_type": "text"
      },
      "source": [
        "# 소비형태의 온라인 전환\n",
        "## 온라인 소비 지수"
      ]
    },
    {
      "cell_type": "code",
      "metadata": {
        "id": "Cxlz8HQF-zkG",
        "colab_type": "code",
        "colab": {}
      },
      "source": [
        "##19년도와 20년도 카드소비(물건소비)대비 물동량으로 온라인 주문비율의 늘어남을 보여줌\n",
        "# 온라인 결제비율 =  택배량/(물건카테고리)카드결제 건수 (일주일로 집계)\n",
        "## 온라인 결제 비율의 증가를 보여줌....\n",
        "logistics = pd.read_excel('/content/drive/My Drive/bigcon/2020 빅콘테스트_CJ올리브네트웍스_제공DB.xlsx')"
      ],
      "execution_count": null,
      "outputs": []
    },
    {
      "cell_type": "code",
      "metadata": {
        "id": "bI7dP6mlGRUY",
        "colab_type": "code",
        "colab": {
          "base_uri": "https://localhost:8080/",
          "height": 202
        },
        "outputId": "986ced7d-89f3-4807-d6b2-1ef62ba4511a"
      },
      "source": [
        "logistics.head()"
      ],
      "execution_count": null,
      "outputs": [
        {
          "output_type": "execute_result",
          "data": {
            "text/html": [
              "<div>\n",
              "<style scoped>\n",
              "    .dataframe tbody tr th:only-of-type {\n",
              "        vertical-align: middle;\n",
              "    }\n",
              "\n",
              "    .dataframe tbody tr th {\n",
              "        vertical-align: top;\n",
              "    }\n",
              "\n",
              "    .dataframe thead th {\n",
              "        text-align: right;\n",
              "    }\n",
              "</style>\n",
              "<table border=\"1\" class=\"dataframe\">\n",
              "  <thead>\n",
              "    <tr style=\"text-align: right;\">\n",
              "      <th></th>\n",
              "      <th>DL_YMD</th>\n",
              "      <th>DL_GD_LCLS_NM</th>\n",
              "      <th>DL_GD_LCLS_CD</th>\n",
              "      <th>CTPV_NM</th>\n",
              "      <th>CTPV_CD</th>\n",
              "      <th>CTGG_NM</th>\n",
              "      <th>CTGG_CD</th>\n",
              "      <th>HDNG_NM</th>\n",
              "      <th>HDNG_CD</th>\n",
              "      <th>INVC_CONT</th>\n",
              "    </tr>\n",
              "  </thead>\n",
              "  <tbody>\n",
              "    <tr>\n",
              "      <th>0</th>\n",
              "      <td>190201</td>\n",
              "      <td>도서/음반</td>\n",
              "      <td>12</td>\n",
              "      <td>서울특별시</td>\n",
              "      <td>11</td>\n",
              "      <td>중구</td>\n",
              "      <td>14</td>\n",
              "      <td>동화동</td>\n",
              "      <td>665</td>\n",
              "      <td>16</td>\n",
              "    </tr>\n",
              "    <tr>\n",
              "      <th>1</th>\n",
              "      <td>190201</td>\n",
              "      <td>가구/인테리어</td>\n",
              "      <td>10</td>\n",
              "      <td>서울특별시</td>\n",
              "      <td>11</td>\n",
              "      <td>중구</td>\n",
              "      <td>14</td>\n",
              "      <td>신당동</td>\n",
              "      <td>615</td>\n",
              "      <td>4</td>\n",
              "    </tr>\n",
              "    <tr>\n",
              "      <th>2</th>\n",
              "      <td>190201</td>\n",
              "      <td>가구/인테리어</td>\n",
              "      <td>10</td>\n",
              "      <td>대구광역시</td>\n",
              "      <td>27</td>\n",
              "      <td>중구</td>\n",
              "      <td>11</td>\n",
              "      <td>성내1동</td>\n",
              "      <td>565</td>\n",
              "      <td>1</td>\n",
              "    </tr>\n",
              "    <tr>\n",
              "      <th>3</th>\n",
              "      <td>190201</td>\n",
              "      <td>도서/음반</td>\n",
              "      <td>12</td>\n",
              "      <td>대구광역시</td>\n",
              "      <td>27</td>\n",
              "      <td>중구</td>\n",
              "      <td>11</td>\n",
              "      <td>남산2동</td>\n",
              "      <td>650</td>\n",
              "      <td>6</td>\n",
              "    </tr>\n",
              "    <tr>\n",
              "      <th>4</th>\n",
              "      <td>190201</td>\n",
              "      <td>디지털/가전</td>\n",
              "      <td>13</td>\n",
              "      <td>대구광역시</td>\n",
              "      <td>27</td>\n",
              "      <td>수성구</td>\n",
              "      <td>26</td>\n",
              "      <td>고산3동</td>\n",
              "      <td>690</td>\n",
              "      <td>21</td>\n",
              "    </tr>\n",
              "  </tbody>\n",
              "</table>\n",
              "</div>"
            ],
            "text/plain": [
              "   DL_YMD DL_GD_LCLS_NM  DL_GD_LCLS_CD  ... HDNG_NM  HDNG_CD INVC_CONT\n",
              "0  190201         도서/음반             12  ...     동화동      665        16\n",
              "1  190201       가구/인테리어             10  ...     신당동      615         4\n",
              "2  190201       가구/인테리어             10  ...    성내1동      565         1\n",
              "3  190201         도서/음반             12  ...    남산2동      650         6\n",
              "4  190201        디지털/가전             13  ...    고산3동      690        21\n",
              "\n",
              "[5 rows x 10 columns]"
            ]
          },
          "metadata": {
            "tags": []
          },
          "execution_count": 10
        }
      ]
    },
    {
      "cell_type": "code",
      "metadata": {
        "id": "O0bTq_lxGX7S",
        "colab_type": "code",
        "colab": {}
      },
      "source": [
        "# 일자별로 집계, 모든지역 평균\n",
        "logistics_19 = logistics.groupby(logistics['DL_YMD']).agg({'INVC_CONT' : np.sum})[:120]\n",
        "logistics_20 = logistics.groupby(logistics['DL_YMD']).agg({'INVC_CONT' : np.sum})[120:-1]"
      ],
      "execution_count": null,
      "outputs": []
    },
    {
      "cell_type": "code",
      "metadata": {
        "id": "ITKBxJ0tHrMG",
        "colab_type": "code",
        "colab": {}
      },
      "source": [
        "resident_card = pd.read_pickle('/content/drive/My Drive/bigcon/CARD_SPENDING_RESIDENT.pickle')"
      ],
      "execution_count": null,
      "outputs": []
    },
    {
      "cell_type": "code",
      "metadata": {
        "id": "dPLQ5ptrHtWD",
        "colab_type": "code",
        "colab": {}
      },
      "source": [
        "name = np.array(pd.read_csv('/content/drive/My Drive/bigcon/name_list.txt')).flatten()\n",
        "# 물질재에 대한 소비만 집계\n",
        "item = [ '레저용품(20)','문화취미(22)', '가구(30)', \n",
        "       '주방용구(32)', '광학제품(34)', '가전(35)', '유통업(40)', '의복(42)',\n",
        "       '직물(43)', '신변잡화(44)', '서적문구(50)', '사무통신(52)',\n",
        "        '보건위생(71)', '음료식품(81)']\n",
        "item = [x[-3:-1] + '_cnt' for x  in item]\n",
        "\n",
        "resident_card_item = resident_card[item].groupby(resident_card['STD_DD']).sum()\n",
        "resident_card_item = resident_card_item.reset_index()\n",
        "#row sum\n",
        "resident_card_item['total'] = resident_card_item.sum(axis = 1)"
      ],
      "execution_count": null,
      "outputs": []
    },
    {
      "cell_type": "code",
      "metadata": {
        "id": "24NF-Q-IJWZu",
        "colab_type": "code",
        "colab": {
          "base_uri": "https://localhost:8080/",
          "height": 359
        },
        "outputId": "06a46f83-791b-4e5d-d506-5dc63cffc47c"
      },
      "source": [
        "#일주일의 간격 MA\n",
        "resident_card_item_19 = resident_card_item['total'][:120].rolling(7).mean()\n",
        "resident_card_item_20 = resident_card_item['total'][120:-1].rolling(7).mean()\n",
        "# 온라인 결제지수 =  택배량/(물건카테고리)카드결제 건수 (일주일로 집계)\n",
        "## 일주일 집계해줘야 계절요인 제거해서 편하게 볼 듯\n",
        "online_19 =    logistics_19['INVC_CONT'].rolling(7).mean().values / resident_card_item_19\n",
        "online_20 =   logistics_20['INVC_CONT'].rolling(7).mean().values / resident_card_item_20\n",
        "\n",
        "import seaborn as sns\n",
        "sns.set()\n",
        "fig, axis = plt.subplots(figsize=(10,5))\n",
        "\n",
        "index = [x for x in range(120)]\n",
        "sns.lineplot(index,online_20,linewidth=1.5, color='r',label='after_COVID-19')\n",
        "sns.lineplot(index,online_19,  linewidth=1.5, color='g',label='before_COVID-19')\n",
        "\n",
        "axis.set_title('온라인 소비 지수의 코로나 전후 차이',fontsize=14, fontproperties=set_font(size = 18))\n",
        "axis.set_ylabel('온라인 소비 지수',fontproperties=set_font(size = 12))\n",
        "axis.set_xlabel('시간 경과',fontproperties=set_font(size = 12))\n",
        "axis.axhline(y=online_20.mean(), color='r', linestyle='dashed', linewidth=1,label='after_COVID-19_mean')\n",
        "axis.axhline(y=online_19.mean(), color='g',  linestyle='dashed',linewidth=1,label='before_COVID-19_mean')\n",
        "axis.legend(loc = 'lower right')\n",
        "#fig.savefig('./a.png', transparent=True)"
      ],
      "execution_count": null,
      "outputs": [
        {
          "output_type": "display_data",
          "data": {
            "image/png": "[encoded data removed]",
            "text/plain": [
              "<Figure size 720x360 with 1 Axes>"
            ]
          },
          "metadata": {
            "tags": []
          }
        }
      ]
    },
    {
      "cell_type": "markdown",
      "metadata": {
        "id": "Hw-Z1MHtyLCR",
        "colab_type": "text"
      },
      "source": [
        "물류데이터와 카드소비 데이터를 이용하여 온라인 소비지수를 개발한 뒤, 이를 이용하여 코로나이후 온라인을 통한 소비가 늘어난 것을 확인함. "
      ]
    },
    {
      "cell_type": "markdown",
      "metadata": {
        "id": "d0PL1RSHBeTN",
        "colab_type": "text"
      },
      "source": [
        "# 카테고리별 온라인 소비 전환률"
      ]
    },
    {
      "cell_type": "code",
      "metadata": {
        "id": "i5jK-JiOVDCo",
        "colab_type": "code",
        "colab": {}
      },
      "source": [
        "# 20년 온라인 소비 비중 / 19년 온라인 소비 비중\n",
        "logistics_19 = logistics[logistics['DL_YMD']<200000].groupby([logistics['DL_GD_LCLS_NM']]).sum()[['INVC_CONT']]\n",
        "logistics_20 = logistics[logistics['DL_YMD']>200000].groupby([logistics['DL_GD_LCLS_NM']]).sum()[['INVC_CONT']]\n",
        "name_dict = {'가구/인테리어':30,'도서/음반':50, '디지털/가전':35,\n",
        " '생활건강':40, '스포츠/레저':20, '식품': 40,\n",
        " '출산/육아':40, '패션의류': 42, '패션잡화': 42,'화장품/미용': 71}\n",
        " # 온라인 소비비중 = 송장량 / 물질제 카드소비 건수\n"
      ],
      "execution_count": null,
      "outputs": []
    },
    {
      "cell_type": "code",
      "metadata": {
        "id": "UIh_lxqeXg-I",
        "colab_type": "code",
        "colab": {
          "base_uri": "https://localhost:8080/",
          "height": 695
        },
        "outputId": "443a0243-aa83-4f03-b04a-066d194fe7c9"
      },
      "source": [
        "resident_card"
      ],
      "execution_count": null,
      "outputs": [
        {
          "output_type": "execute_result",
          "data": {
            "text/html": [
              "<div>\n",
              "<style scoped>\n",
              "    .dataframe tbody tr th:only-of-type {\n",
              "        vertical-align: middle;\n",
              "    }\n",
              "\n",
              "    .dataframe tbody tr th {\n",
              "        vertical-align: top;\n",
              "    }\n",
              "\n",
              "    .dataframe thead th {\n",
              "        text-align: right;\n",
              "    }\n",
              "</style>\n",
              "<table border=\"1\" class=\"dataframe\">\n",
              "  <thead>\n",
              "    <tr style=\"text-align: right;\">\n",
              "      <th></th>\n",
              "      <th>STD_DD</th>\n",
              "      <th>GU_CD</th>\n",
              "      <th>DONG_CD</th>\n",
              "      <th>MCT_CAT_CD</th>\n",
              "      <th>SEX_CD</th>\n",
              "      <th>AGE_CD</th>\n",
              "      <th>USE_CNT</th>\n",
              "      <th>USE_AMT</th>\n",
              "      <th>10_cnt</th>\n",
              "      <th>20_cnt</th>\n",
              "      <th>21_cnt</th>\n",
              "      <th>22_cnt</th>\n",
              "      <th>30_cnt</th>\n",
              "      <th>31_cnt</th>\n",
              "      <th>32_cnt</th>\n",
              "      <th>33_cnt</th>\n",
              "      <th>34_cnt</th>\n",
              "      <th>35_cnt</th>\n",
              "      <th>40_cnt</th>\n",
              "      <th>42_cnt</th>\n",
              "      <th>43_cnt</th>\n",
              "      <th>44_cnt</th>\n",
              "      <th>50_cnt</th>\n",
              "      <th>52_cnt</th>\n",
              "      <th>60_cnt</th>\n",
              "      <th>62_cnt</th>\n",
              "      <th>70_cnt</th>\n",
              "      <th>71_cnt</th>\n",
              "      <th>80_cnt</th>\n",
              "      <th>81_cnt</th>\n",
              "      <th>92_cnt</th>\n",
              "      <th>10_amt</th>\n",
              "      <th>20_amt</th>\n",
              "      <th>21_amt</th>\n",
              "      <th>22_amt</th>\n",
              "      <th>30_amt</th>\n",
              "      <th>31_amt</th>\n",
              "      <th>32_amt</th>\n",
              "      <th>33_amt</th>\n",
              "      <th>34_amt</th>\n",
              "      <th>35_amt</th>\n",
              "      <th>40_amt</th>\n",
              "      <th>42_amt</th>\n",
              "      <th>43_amt</th>\n",
              "      <th>44_amt</th>\n",
              "      <th>50_amt</th>\n",
              "      <th>52_amt</th>\n",
              "      <th>60_amt</th>\n",
              "      <th>62_amt</th>\n",
              "      <th>70_amt</th>\n",
              "      <th>71_amt</th>\n",
              "      <th>80_amt</th>\n",
              "      <th>81_amt</th>\n",
              "      <th>92_amt</th>\n",
              "    </tr>\n",
              "  </thead>\n",
              "  <tbody>\n",
              "    <tr>\n",
              "      <th>0</th>\n",
              "      <td>20190201</td>\n",
              "      <td>대구 중구</td>\n",
              "      <td>동인동</td>\n",
              "      <td>10</td>\n",
              "      <td>F</td>\n",
              "      <td>25</td>\n",
              "      <td>11</td>\n",
              "      <td>595</td>\n",
              "      <td>11</td>\n",
              "      <td>0</td>\n",
              "      <td>0</td>\n",
              "      <td>0</td>\n",
              "      <td>0</td>\n",
              "      <td>0</td>\n",
              "      <td>0</td>\n",
              "      <td>0</td>\n",
              "      <td>0</td>\n",
              "      <td>0</td>\n",
              "      <td>0</td>\n",
              "      <td>0</td>\n",
              "      <td>0</td>\n",
              "      <td>0</td>\n",
              "      <td>0</td>\n",
              "      <td>0</td>\n",
              "      <td>0</td>\n",
              "      <td>0</td>\n",
              "      <td>0</td>\n",
              "      <td>0</td>\n",
              "      <td>0</td>\n",
              "      <td>0</td>\n",
              "      <td>0</td>\n",
              "      <td>595</td>\n",
              "      <td>0</td>\n",
              "      <td>0</td>\n",
              "      <td>0</td>\n",
              "      <td>0</td>\n",
              "      <td>0</td>\n",
              "      <td>0</td>\n",
              "      <td>0</td>\n",
              "      <td>0</td>\n",
              "      <td>0</td>\n",
              "      <td>0</td>\n",
              "      <td>0</td>\n",
              "      <td>0</td>\n",
              "      <td>0</td>\n",
              "      <td>0</td>\n",
              "      <td>0</td>\n",
              "      <td>0</td>\n",
              "      <td>0</td>\n",
              "      <td>0</td>\n",
              "      <td>0</td>\n",
              "      <td>0</td>\n",
              "      <td>0</td>\n",
              "      <td>0</td>\n",
              "    </tr>\n",
              "    <tr>\n",
              "      <th>1</th>\n",
              "      <td>20190201</td>\n",
              "      <td>대구 중구</td>\n",
              "      <td>동인동</td>\n",
              "      <td>10</td>\n",
              "      <td>F</td>\n",
              "      <td>50</td>\n",
              "      <td>5</td>\n",
              "      <td>243</td>\n",
              "      <td>5</td>\n",
              "      <td>0</td>\n",
              "      <td>0</td>\n",
              "      <td>0</td>\n",
              "      <td>0</td>\n",
              "      <td>0</td>\n",
              "      <td>0</td>\n",
              "      <td>0</td>\n",
              "      <td>0</td>\n",
              "      <td>0</td>\n",
              "      <td>0</td>\n",
              "      <td>0</td>\n",
              "      <td>0</td>\n",
              "      <td>0</td>\n",
              "      <td>0</td>\n",
              "      <td>0</td>\n",
              "      <td>0</td>\n",
              "      <td>0</td>\n",
              "      <td>0</td>\n",
              "      <td>0</td>\n",
              "      <td>0</td>\n",
              "      <td>0</td>\n",
              "      <td>0</td>\n",
              "      <td>243</td>\n",
              "      <td>0</td>\n",
              "      <td>0</td>\n",
              "      <td>0</td>\n",
              "      <td>0</td>\n",
              "      <td>0</td>\n",
              "      <td>0</td>\n",
              "      <td>0</td>\n",
              "      <td>0</td>\n",
              "      <td>0</td>\n",
              "      <td>0</td>\n",
              "      <td>0</td>\n",
              "      <td>0</td>\n",
              "      <td>0</td>\n",
              "      <td>0</td>\n",
              "      <td>0</td>\n",
              "      <td>0</td>\n",
              "      <td>0</td>\n",
              "      <td>0</td>\n",
              "      <td>0</td>\n",
              "      <td>0</td>\n",
              "      <td>0</td>\n",
              "      <td>0</td>\n",
              "    </tr>\n",
              "    <tr>\n",
              "      <th>2</th>\n",
              "      <td>20190201</td>\n",
              "      <td>대구 중구</td>\n",
              "      <td>동인동</td>\n",
              "      <td>10</td>\n",
              "      <td>F</td>\n",
              "      <td>55</td>\n",
              "      <td>5</td>\n",
              "      <td>27</td>\n",
              "      <td>5</td>\n",
              "      <td>0</td>\n",
              "      <td>0</td>\n",
              "      <td>0</td>\n",
              "      <td>0</td>\n",
              "      <td>0</td>\n",
              "      <td>0</td>\n",
              "      <td>0</td>\n",
              "      <td>0</td>\n",
              "      <td>0</td>\n",
              "      <td>0</td>\n",
              "      <td>0</td>\n",
              "      <td>0</td>\n",
              "      <td>0</td>\n",
              "      <td>0</td>\n",
              "      <td>0</td>\n",
              "      <td>0</td>\n",
              "      <td>0</td>\n",
              "      <td>0</td>\n",
              "      <td>0</td>\n",
              "      <td>0</td>\n",
              "      <td>0</td>\n",
              "      <td>0</td>\n",
              "      <td>27</td>\n",
              "      <td>0</td>\n",
              "      <td>0</td>\n",
              "      <td>0</td>\n",
              "      <td>0</td>\n",
              "      <td>0</td>\n",
              "      <td>0</td>\n",
              "      <td>0</td>\n",
              "      <td>0</td>\n",
              "      <td>0</td>\n",
              "      <td>0</td>\n",
              "      <td>0</td>\n",
              "      <td>0</td>\n",
              "      <td>0</td>\n",
              "      <td>0</td>\n",
              "      <td>0</td>\n",
              "      <td>0</td>\n",
              "      <td>0</td>\n",
              "      <td>0</td>\n",
              "      <td>0</td>\n",
              "      <td>0</td>\n",
              "      <td>0</td>\n",
              "      <td>0</td>\n",
              "    </tr>\n",
              "    <tr>\n",
              "      <th>3</th>\n",
              "      <td>20190201</td>\n",
              "      <td>대구 중구</td>\n",
              "      <td>동인동</td>\n",
              "      <td>10</td>\n",
              "      <td>M</td>\n",
              "      <td>20</td>\n",
              "      <td>11</td>\n",
              "      <td>243</td>\n",
              "      <td>11</td>\n",
              "      <td>0</td>\n",
              "      <td>0</td>\n",
              "      <td>0</td>\n",
              "      <td>0</td>\n",
              "      <td>0</td>\n",
              "      <td>0</td>\n",
              "      <td>0</td>\n",
              "      <td>0</td>\n",
              "      <td>0</td>\n",
              "      <td>0</td>\n",
              "      <td>0</td>\n",
              "      <td>0</td>\n",
              "      <td>0</td>\n",
              "      <td>0</td>\n",
              "      <td>0</td>\n",
              "      <td>0</td>\n",
              "      <td>0</td>\n",
              "      <td>0</td>\n",
              "      <td>0</td>\n",
              "      <td>0</td>\n",
              "      <td>0</td>\n",
              "      <td>0</td>\n",
              "      <td>243</td>\n",
              "      <td>0</td>\n",
              "      <td>0</td>\n",
              "      <td>0</td>\n",
              "      <td>0</td>\n",
              "      <td>0</td>\n",
              "      <td>0</td>\n",
              "      <td>0</td>\n",
              "      <td>0</td>\n",
              "      <td>0</td>\n",
              "      <td>0</td>\n",
              "      <td>0</td>\n",
              "      <td>0</td>\n",
              "      <td>0</td>\n",
              "      <td>0</td>\n",
              "      <td>0</td>\n",
              "      <td>0</td>\n",
              "      <td>0</td>\n",
              "      <td>0</td>\n",
              "      <td>0</td>\n",
              "      <td>0</td>\n",
              "      <td>0</td>\n",
              "      <td>0</td>\n",
              "    </tr>\n",
              "    <tr>\n",
              "      <th>4</th>\n",
              "      <td>20190201</td>\n",
              "      <td>대구 중구</td>\n",
              "      <td>동인동</td>\n",
              "      <td>10</td>\n",
              "      <td>M</td>\n",
              "      <td>25</td>\n",
              "      <td>11</td>\n",
              "      <td>433</td>\n",
              "      <td>11</td>\n",
              "      <td>0</td>\n",
              "      <td>0</td>\n",
              "      <td>0</td>\n",
              "      <td>0</td>\n",
              "      <td>0</td>\n",
              "      <td>0</td>\n",
              "      <td>0</td>\n",
              "      <td>0</td>\n",
              "      <td>0</td>\n",
              "      <td>0</td>\n",
              "      <td>0</td>\n",
              "      <td>0</td>\n",
              "      <td>0</td>\n",
              "      <td>0</td>\n",
              "      <td>0</td>\n",
              "      <td>0</td>\n",
              "      <td>0</td>\n",
              "      <td>0</td>\n",
              "      <td>0</td>\n",
              "      <td>0</td>\n",
              "      <td>0</td>\n",
              "      <td>0</td>\n",
              "      <td>433</td>\n",
              "      <td>0</td>\n",
              "      <td>0</td>\n",
              "      <td>0</td>\n",
              "      <td>0</td>\n",
              "      <td>0</td>\n",
              "      <td>0</td>\n",
              "      <td>0</td>\n",
              "      <td>0</td>\n",
              "      <td>0</td>\n",
              "      <td>0</td>\n",
              "      <td>0</td>\n",
              "      <td>0</td>\n",
              "      <td>0</td>\n",
              "      <td>0</td>\n",
              "      <td>0</td>\n",
              "      <td>0</td>\n",
              "      <td>0</td>\n",
              "      <td>0</td>\n",
              "      <td>0</td>\n",
              "      <td>0</td>\n",
              "      <td>0</td>\n",
              "      <td>0</td>\n",
              "    </tr>\n",
              "    <tr>\n",
              "      <th>...</th>\n",
              "      <td>...</td>\n",
              "      <td>...</td>\n",
              "      <td>...</td>\n",
              "      <td>...</td>\n",
              "      <td>...</td>\n",
              "      <td>...</td>\n",
              "      <td>...</td>\n",
              "      <td>...</td>\n",
              "      <td>...</td>\n",
              "      <td>...</td>\n",
              "      <td>...</td>\n",
              "      <td>...</td>\n",
              "      <td>...</td>\n",
              "      <td>...</td>\n",
              "      <td>...</td>\n",
              "      <td>...</td>\n",
              "      <td>...</td>\n",
              "      <td>...</td>\n",
              "      <td>...</td>\n",
              "      <td>...</td>\n",
              "      <td>...</td>\n",
              "      <td>...</td>\n",
              "      <td>...</td>\n",
              "      <td>...</td>\n",
              "      <td>...</td>\n",
              "      <td>...</td>\n",
              "      <td>...</td>\n",
              "      <td>...</td>\n",
              "      <td>...</td>\n",
              "      <td>...</td>\n",
              "      <td>...</td>\n",
              "      <td>...</td>\n",
              "      <td>...</td>\n",
              "      <td>...</td>\n",
              "      <td>...</td>\n",
              "      <td>...</td>\n",
              "      <td>...</td>\n",
              "      <td>...</td>\n",
              "      <td>...</td>\n",
              "      <td>...</td>\n",
              "      <td>...</td>\n",
              "      <td>...</td>\n",
              "      <td>...</td>\n",
              "      <td>...</td>\n",
              "      <td>...</td>\n",
              "      <td>...</td>\n",
              "      <td>...</td>\n",
              "      <td>...</td>\n",
              "      <td>...</td>\n",
              "      <td>...</td>\n",
              "      <td>...</td>\n",
              "      <td>...</td>\n",
              "      <td>...</td>\n",
              "      <td>...</td>\n",
              "    </tr>\n",
              "    <tr>\n",
              "      <th>2537748</th>\n",
              "      <td>20200531</td>\n",
              "      <td>서울 노원구</td>\n",
              "      <td>상계10동</td>\n",
              "      <td>81</td>\n",
              "      <td>M</td>\n",
              "      <td>45</td>\n",
              "      <td>19</td>\n",
              "      <td>127</td>\n",
              "      <td>0</td>\n",
              "      <td>0</td>\n",
              "      <td>0</td>\n",
              "      <td>0</td>\n",
              "      <td>0</td>\n",
              "      <td>0</td>\n",
              "      <td>0</td>\n",
              "      <td>0</td>\n",
              "      <td>0</td>\n",
              "      <td>0</td>\n",
              "      <td>0</td>\n",
              "      <td>0</td>\n",
              "      <td>0</td>\n",
              "      <td>0</td>\n",
              "      <td>0</td>\n",
              "      <td>0</td>\n",
              "      <td>0</td>\n",
              "      <td>0</td>\n",
              "      <td>0</td>\n",
              "      <td>0</td>\n",
              "      <td>0</td>\n",
              "      <td>19</td>\n",
              "      <td>0</td>\n",
              "      <td>0</td>\n",
              "      <td>0</td>\n",
              "      <td>0</td>\n",
              "      <td>0</td>\n",
              "      <td>0</td>\n",
              "      <td>0</td>\n",
              "      <td>0</td>\n",
              "      <td>0</td>\n",
              "      <td>0</td>\n",
              "      <td>0</td>\n",
              "      <td>0</td>\n",
              "      <td>0</td>\n",
              "      <td>0</td>\n",
              "      <td>0</td>\n",
              "      <td>0</td>\n",
              "      <td>0</td>\n",
              "      <td>0</td>\n",
              "      <td>0</td>\n",
              "      <td>0</td>\n",
              "      <td>0</td>\n",
              "      <td>0</td>\n",
              "      <td>127</td>\n",
              "      <td>0</td>\n",
              "    </tr>\n",
              "    <tr>\n",
              "      <th>2537749</th>\n",
              "      <td>20200531</td>\n",
              "      <td>서울 노원구</td>\n",
              "      <td>상계10동</td>\n",
              "      <td>81</td>\n",
              "      <td>M</td>\n",
              "      <td>50</td>\n",
              "      <td>33</td>\n",
              "      <td>211</td>\n",
              "      <td>0</td>\n",
              "      <td>0</td>\n",
              "      <td>0</td>\n",
              "      <td>0</td>\n",
              "      <td>0</td>\n",
              "      <td>0</td>\n",
              "      <td>0</td>\n",
              "      <td>0</td>\n",
              "      <td>0</td>\n",
              "      <td>0</td>\n",
              "      <td>0</td>\n",
              "      <td>0</td>\n",
              "      <td>0</td>\n",
              "      <td>0</td>\n",
              "      <td>0</td>\n",
              "      <td>0</td>\n",
              "      <td>0</td>\n",
              "      <td>0</td>\n",
              "      <td>0</td>\n",
              "      <td>0</td>\n",
              "      <td>0</td>\n",
              "      <td>33</td>\n",
              "      <td>0</td>\n",
              "      <td>0</td>\n",
              "      <td>0</td>\n",
              "      <td>0</td>\n",
              "      <td>0</td>\n",
              "      <td>0</td>\n",
              "      <td>0</td>\n",
              "      <td>0</td>\n",
              "      <td>0</td>\n",
              "      <td>0</td>\n",
              "      <td>0</td>\n",
              "      <td>0</td>\n",
              "      <td>0</td>\n",
              "      <td>0</td>\n",
              "      <td>0</td>\n",
              "      <td>0</td>\n",
              "      <td>0</td>\n",
              "      <td>0</td>\n",
              "      <td>0</td>\n",
              "      <td>0</td>\n",
              "      <td>0</td>\n",
              "      <td>0</td>\n",
              "      <td>211</td>\n",
              "      <td>0</td>\n",
              "    </tr>\n",
              "    <tr>\n",
              "      <th>2537750</th>\n",
              "      <td>20200531</td>\n",
              "      <td>서울 노원구</td>\n",
              "      <td>상계10동</td>\n",
              "      <td>81</td>\n",
              "      <td>M</td>\n",
              "      <td>55</td>\n",
              "      <td>9</td>\n",
              "      <td>61</td>\n",
              "      <td>0</td>\n",
              "      <td>0</td>\n",
              "      <td>0</td>\n",
              "      <td>0</td>\n",
              "      <td>0</td>\n",
              "      <td>0</td>\n",
              "      <td>0</td>\n",
              "      <td>0</td>\n",
              "      <td>0</td>\n",
              "      <td>0</td>\n",
              "      <td>0</td>\n",
              "      <td>0</td>\n",
              "      <td>0</td>\n",
              "      <td>0</td>\n",
              "      <td>0</td>\n",
              "      <td>0</td>\n",
              "      <td>0</td>\n",
              "      <td>0</td>\n",
              "      <td>0</td>\n",
              "      <td>0</td>\n",
              "      <td>0</td>\n",
              "      <td>9</td>\n",
              "      <td>0</td>\n",
              "      <td>0</td>\n",
              "      <td>0</td>\n",
              "      <td>0</td>\n",
              "      <td>0</td>\n",
              "      <td>0</td>\n",
              "      <td>0</td>\n",
              "      <td>0</td>\n",
              "      <td>0</td>\n",
              "      <td>0</td>\n",
              "      <td>0</td>\n",
              "      <td>0</td>\n",
              "      <td>0</td>\n",
              "      <td>0</td>\n",
              "      <td>0</td>\n",
              "      <td>0</td>\n",
              "      <td>0</td>\n",
              "      <td>0</td>\n",
              "      <td>0</td>\n",
              "      <td>0</td>\n",
              "      <td>0</td>\n",
              "      <td>0</td>\n",
              "      <td>61</td>\n",
              "      <td>0</td>\n",
              "    </tr>\n",
              "    <tr>\n",
              "      <th>2537751</th>\n",
              "      <td>20200531</td>\n",
              "      <td>서울 노원구</td>\n",
              "      <td>상계10동</td>\n",
              "      <td>81</td>\n",
              "      <td>M</td>\n",
              "      <td>60</td>\n",
              "      <td>19</td>\n",
              "      <td>194</td>\n",
              "      <td>0</td>\n",
              "      <td>0</td>\n",
              "      <td>0</td>\n",
              "      <td>0</td>\n",
              "      <td>0</td>\n",
              "      <td>0</td>\n",
              "      <td>0</td>\n",
              "      <td>0</td>\n",
              "      <td>0</td>\n",
              "      <td>0</td>\n",
              "      <td>0</td>\n",
              "      <td>0</td>\n",
              "      <td>0</td>\n",
              "      <td>0</td>\n",
              "      <td>0</td>\n",
              "      <td>0</td>\n",
              "      <td>0</td>\n",
              "      <td>0</td>\n",
              "      <td>0</td>\n",
              "      <td>0</td>\n",
              "      <td>0</td>\n",
              "      <td>19</td>\n",
              "      <td>0</td>\n",
              "      <td>0</td>\n",
              "      <td>0</td>\n",
              "      <td>0</td>\n",
              "      <td>0</td>\n",
              "      <td>0</td>\n",
              "      <td>0</td>\n",
              "      <td>0</td>\n",
              "      <td>0</td>\n",
              "      <td>0</td>\n",
              "      <td>0</td>\n",
              "      <td>0</td>\n",
              "      <td>0</td>\n",
              "      <td>0</td>\n",
              "      <td>0</td>\n",
              "      <td>0</td>\n",
              "      <td>0</td>\n",
              "      <td>0</td>\n",
              "      <td>0</td>\n",
              "      <td>0</td>\n",
              "      <td>0</td>\n",
              "      <td>0</td>\n",
              "      <td>194</td>\n",
              "      <td>0</td>\n",
              "    </tr>\n",
              "    <tr>\n",
              "      <th>2537752</th>\n",
              "      <td>20200531</td>\n",
              "      <td>서울 노원구</td>\n",
              "      <td>상계10동</td>\n",
              "      <td>81</td>\n",
              "      <td>M</td>\n",
              "      <td>65</td>\n",
              "      <td>5</td>\n",
              "      <td>29</td>\n",
              "      <td>0</td>\n",
              "      <td>0</td>\n",
              "      <td>0</td>\n",
              "      <td>0</td>\n",
              "      <td>0</td>\n",
              "      <td>0</td>\n",
              "      <td>0</td>\n",
              "      <td>0</td>\n",
              "      <td>0</td>\n",
              "      <td>0</td>\n",
              "      <td>0</td>\n",
              "      <td>0</td>\n",
              "      <td>0</td>\n",
              "      <td>0</td>\n",
              "      <td>0</td>\n",
              "      <td>0</td>\n",
              "      <td>0</td>\n",
              "      <td>0</td>\n",
              "      <td>0</td>\n",
              "      <td>0</td>\n",
              "      <td>0</td>\n",
              "      <td>5</td>\n",
              "      <td>0</td>\n",
              "      <td>0</td>\n",
              "      <td>0</td>\n",
              "      <td>0</td>\n",
              "      <td>0</td>\n",
              "      <td>0</td>\n",
              "      <td>0</td>\n",
              "      <td>0</td>\n",
              "      <td>0</td>\n",
              "      <td>0</td>\n",
              "      <td>0</td>\n",
              "      <td>0</td>\n",
              "      <td>0</td>\n",
              "      <td>0</td>\n",
              "      <td>0</td>\n",
              "      <td>0</td>\n",
              "      <td>0</td>\n",
              "      <td>0</td>\n",
              "      <td>0</td>\n",
              "      <td>0</td>\n",
              "      <td>0</td>\n",
              "      <td>0</td>\n",
              "      <td>29</td>\n",
              "      <td>0</td>\n",
              "    </tr>\n",
              "  </tbody>\n",
              "</table>\n",
              "<p>2537753 rows × 54 columns</p>\n",
              "</div>"
            ],
            "text/plain": [
              "           STD_DD   GU_CD DONG_CD  MCT_CAT_CD  ... 71_amt  80_amt  81_amt  92_amt\n",
              "0        20190201   대구 중구     동인동          10  ...      0       0       0       0\n",
              "1        20190201   대구 중구     동인동          10  ...      0       0       0       0\n",
              "2        20190201   대구 중구     동인동          10  ...      0       0       0       0\n",
              "3        20190201   대구 중구     동인동          10  ...      0       0       0       0\n",
              "4        20190201   대구 중구     동인동          10  ...      0       0       0       0\n",
              "...           ...     ...     ...         ...  ...    ...     ...     ...     ...\n",
              "2537748  20200531  서울 노원구   상계10동          81  ...      0       0     127       0\n",
              "2537749  20200531  서울 노원구   상계10동          81  ...      0       0     211       0\n",
              "2537750  20200531  서울 노원구   상계10동          81  ...      0       0      61       0\n",
              "2537751  20200531  서울 노원구   상계10동          81  ...      0       0     194       0\n",
              "2537752  20200531  서울 노원구   상계10동          81  ...      0       0      29       0\n",
              "\n",
              "[2537753 rows x 54 columns]"
            ]
          },
          "metadata": {
            "tags": []
          },
          "execution_count": 8
        }
      ]
    },
    {
      "cell_type": "markdown",
      "metadata": {
        "id": "r8JsrgAR-pcK",
        "colab_type": "text"
      },
      "source": [
        "# 소비 위축 지수"
      ]
    },
    {
      "cell_type": "code",
      "metadata": {
        "id": "TEnpMoeXASX2",
        "colab_type": "code",
        "colab": {}
      },
      "source": [
        "# 고령층에서 19년 대비 20년의 카드 매출이 더줄어들었다는 것을 보여준다.\n",
        "resident_card = pd.read_pickle('/content/drive/My Drive/bigcon/CARD_SPENDING_RESIDENT.pickle')\n",
        "#소비감소지수 =  20년 소비 총액/19년 소비 총액\n",
        "older_19 = resident_card[resident_card['AGE_CD'] >= 65]\n",
        "older_19 = older_19.groupby(resident_card['STD_DD']).sum()[['USE_AMT']][:120]\n",
        "younger_19 = resident_card[resident_card['AGE_CD'] < 65]\n",
        "younger_19 = younger_19.groupby(resident_card['STD_DD']).sum()[['USE_AMT']][:120]\n",
        "\n",
        "older_20 = resident_card[resident_card['AGE_CD'] >= 65]\n",
        "older_20 = older_20.groupby(resident_card['STD_DD']).sum()[['USE_AMT']][120:-1]\n",
        "younger_20 = resident_card[resident_card['AGE_CD'] < 65]\n",
        "younger_20 = younger_20.groupby(resident_card['STD_DD']).sum()[['USE_AMT']][120:-1]"
      ],
      "execution_count": null,
      "outputs": []
    },
    {
      "cell_type": "code",
      "metadata": {
        "id": "Q0UWX8KWJBes",
        "colab_type": "code",
        "colab": {}
      },
      "source": [
        "index = [x for x in range(120)]\n",
        "younger_20.index,younger_19.index = index,index\n",
        "older_20.index,older_19.index = index,index\n",
        "younger_consume = younger_20/younger_19\n",
        "older_consume = older_20/older_19"
      ],
      "execution_count": null,
      "outputs": []
    },
    {
      "cell_type": "code",
      "metadata": {
        "id": "LDDgWiy5K6jM",
        "colab_type": "code",
        "colab": {
          "base_uri": "https://localhost:8080/",
          "height": 378
        },
        "outputId": "a150dd26-7354-4a30-c95f-7cc374313e2f"
      },
      "source": [
        "import seaborn as sns\n",
        "sns.set()\n",
        "fig, axis = plt.subplots(figsize=(10,5))\n",
        "\n",
        "index = [x for x in range(120)]\n",
        "sns.lineplot(index,younger_consume['USE_AMT'].rolling(7).mean(),linewidth=1.5, color='r',label='younger')\n",
        "sns.lineplot(index,older_consume['USE_AMT'].rolling(7).mean(),  linewidth=1.5, color='g',label='older')\n",
        "\n",
        "axis.set_title('소비 위축 지수 연령별 차이',fontsize=14, fontproperties=set_font(size = 18))\n",
        "axis.set_ylabel('소비 위축 지수',fontproperties=set_font(size = 12))\n",
        "axis.set_xlabel('시간 경과',fontproperties=set_font(size = 12))\n",
        "axis.axhline(y=younger_consume['USE_AMT'].mean(), color='r', linestyle='dashed', linewidth=1,label='younger_mean')\n",
        "axis.axhline(y=older_consume['USE_AMT'].mean(), color='g',  linestyle='dashed',linewidth=1,label='older_mean')\n",
        "axis.legend(loc = 'upper right')"
      ],
      "execution_count": null,
      "outputs": [
        {
          "output_type": "execute_result",
          "data": {
            "text/plain": [
              "<matplotlib.legend.Legend at 0x7ffb8016dac8>"
            ]
          },
          "metadata": {
            "tags": []
          },
          "execution_count": 106
        },
        {
          "output_type": "display_data",
          "data": {
            "image/png": "[encoded data removed]",
            "text/plain": [
              "<Figure size 720x360 with 1 Axes>"
            ]
          },
          "metadata": {
            "tags": []
          }
        }
      ]
    },
    {
      "cell_type": "markdown",
      "metadata": {
        "id": "yMG8AsS5N3y4",
        "colab_type": "text"
      },
      "source": [
        "젊은 층의 소비가 더 위축되었음...."
      ]
    },
    {
      "cell_type": "code",
      "metadata": {
        "id": "1VBg4VHJN_Dh",
        "colab_type": "code",
        "colab": {
          "base_uri": "https://localhost:8080/",
          "height": 378
        },
        "outputId": "d3dd16b5-13ca-4a30-d6ab-87e0c9ccbe0b"
      },
      "source": [
        "#소비감소지수 =  20년 소비 총액/19년 소비 총액\n",
        "card_by_age = resident_card.groupby([resident_card['STD_DD'],resident_card['AGE_CD']]).sum()[['USE_AMT']]\n",
        "card_by_age_mean = resident_card.groupby(resident_card['AGE_CD']).mean()[['USE_AMT']]\n",
        "\n",
        "resident_card_19 =  resident_card.groupby([resident_card['STD_DD'],resident_card['AGE_CD']]).sum()[:120]\n",
        "resident_card_19 = resident_card_19.reset_index()\n",
        "resident_card_19 = resident_card_19.groupby(resident_card_19['AGE_CD']).mean()[['USE_AMT']]\n",
        "resident_card_20 =  resident_card.groupby([resident_card['STD_DD'],resident_card['AGE_CD']]).sum()[120:-1]\n",
        "resident_card_20 = resident_card_20.reset_index()\n",
        "resident_card_20 = resident_card_20.groupby(resident_card_20['AGE_CD']).mean()[['USE_AMT']]\n",
        "\n",
        "dep_consume = resident_card_19/resident_card_20\n",
        "\n",
        "dep_consume = dep_consume.reset_index()\n",
        "\n",
        "sns.set()\n",
        "fig, axis = plt.subplots(figsize=(10,5))\n",
        "sns.barplot(data=dep_consume, x=\"AGE_CD\", y=\"USE_AMT\")\n",
        "axis.set_title('소비 위축 지수 연령별 차이',fontsize=14, fontproperties=set_font(size = 18))\n",
        "axis.set_ylabel('소비 위축 지수(금액)',fontproperties=set_font(size = 12))\n",
        "axis.set_xlabel('연령',fontproperties=set_font(size = 12))\n",
        "axis.axhline(y=1, color='r', linestyle='dashed', linewidth=1)"
      ],
      "execution_count": null,
      "outputs": [
        {
          "output_type": "execute_result",
          "data": {
            "text/plain": [
              "<matplotlib.lines.Line2D at 0x7ffb7c15f390>"
            ]
          },
          "metadata": {
            "tags": []
          },
          "execution_count": 215
        },
        {
          "output_type": "display_data",
          "data": {
            "image/png": "[encoded data removed]",
            "text/plain": [
              "<Figure size 720x360 with 1 Axes>"
            ]
          },
          "metadata": {
            "tags": []
          }
        }
      ]
    },
    {
      "cell_type": "markdown",
      "metadata": {
        "id": "er2pxtZX8_V5",
        "colab_type": "text"
      },
      "source": [
        "연령이 낮을 수록 소비위축지수가 더 크다. 고연령을 경우 오히려 전년 대비 소비금액이 더 늘었다."
      ]
    },
    {
      "cell_type": "code",
      "metadata": {
        "id": "vGiIF9UvRkcv",
        "colab_type": "code",
        "colab": {
          "base_uri": "https://localhost:8080/",
          "height": 378
        },
        "outputId": "ae90a74c-89f8-4ba2-f99f-e24fc32dafcf"
      },
      "source": [
        "#소비감소지수 =  20년 소비 총액/19년 소비 총액\n",
        "card_by_age = resident_card.groupby([resident_card['STD_DD'],resident_card['AGE_CD']]).sum()[['USE_CNT']]\n",
        "card_by_age_mean = resident_card.groupby(resident_card['AGE_CD']).mean()[['USE_CNT']]\n",
        "resident_card_19 =  resident_card.groupby([resident_card['STD_DD'],resident_card['AGE_CD']]).sum()[:120]\n",
        "resident_card_19 = resident_card_19.reset_index()\n",
        "resident_card_19 = resident_card_19.groupby(resident_card_19['AGE_CD']).mean()[['USE_CNT']]\n",
        "resident_card_20 =  resident_card.groupby([resident_card['STD_DD'],resident_card['AGE_CD']]).sum()[120:-1]\n",
        "resident_card_20 = resident_card_20.reset_index()\n",
        "resident_card_20 = resident_card_20.groupby(resident_card_20['AGE_CD']).mean()[['USE_CNT']]\n",
        "\n",
        "dep_consume = resident_card_19/resident_card_20\n",
        "dep_consume = dep_consume.reset_index()\n",
        "\n",
        "sns.set()\n",
        "fig, axis = plt.subplots(figsize=(10,5))\n",
        "sns.barplot(data=dep_consume, x=\"AGE_CD\", y=\"USE_CNT\")\n",
        "axis.set_title('소비 위축 지수 연령별 차이',fontsize=14, fontproperties=set_font(size = 18))\n",
        "axis.set_ylabel('소비 위축 지수(건수)',fontproperties=set_font(size = 12))\n",
        "axis.set_xlabel('연령',fontproperties=set_font(size = 12))\n",
        "axis.axhline(y=1, color='r', linestyle='dashed', linewidth=1)"
      ],
      "execution_count": null,
      "outputs": [
        {
          "output_type": "execute_result",
          "data": {
            "text/plain": [
              "<matplotlib.lines.Line2D at 0x7ffb7dd30588>"
            ]
          },
          "metadata": {
            "tags": []
          },
          "execution_count": 216
        },
        {
          "output_type": "display_data",
          "data": {
            "image/png": "[encoded data removed]",
            "text/plain": [
              "<Figure size 720x360 with 1 Axes>"
            ]
          },
          "metadata": {
            "tags": []
          }
        }
      ]
    },
    {
      "cell_type": "markdown",
      "metadata": {
        "id": "hs83GBxZRTsx",
        "colab_type": "text"
      },
      "source": [
        "소비건수로 보았을 떄에는 전년대비 모든 연령대에서 소비가 위축되었다."
      ]
    },
    {
      "cell_type": "markdown",
      "metadata": {
        "id": "jlDfxyAq2Nk5",
        "colab_type": "text"
      },
      "source": [
        "# 카테고리별 소비 위축지수"
      ]
    },
    {
      "cell_type": "code",
      "metadata": {
        "id": "sJAK1RDz5nbv",
        "colab_type": "code",
        "colab": {
          "base_uri": "https://localhost:8080/",
          "height": 375
        },
        "outputId": "5f8b154d-cf33-4c71-a828-1721b9cd1fee"
      },
      "source": [
        "card_by_cate = resident_card.groupby([resident_card['STD_DD']]).sum().reset_index()\n",
        "card_by_cate = card_by_cate.iloc[:,28:]\n",
        "index = [x for x in range(120)]\n",
        "val_19 = card_by_cate[:120].rolling(7).mean()\n",
        "val_20 = card_by_cate[120:-1].rolling(7).mean()\n",
        "val_20.index = index\n",
        "\n",
        "#19/20\n",
        "val = val_19 / val_20\n",
        "fig, axis = plt.subplots(figsize=(20,5))\n",
        "sns.barplot(data=pd.DataFrame(val.mean()).reset_index(), x=\"index\", y=0)\n",
        "axis.set_title('소비 위축 지수 업종별 차이',fontsize=14, fontproperties=set_font(size = 18))\n",
        "axis.set_ylabel('소비 위축 지수(금액)',fontproperties=set_font(size = 12))\n",
        "axis.set_xlabel('업종',fontproperties=set_font(size = 12))\n",
        "axis.axhline(y=1, color='r', linestyle='dashed', linewidth=1)"
      ],
      "execution_count": null,
      "outputs": [
        {
          "output_type": "execute_result",
          "data": {
            "text/plain": [
              "<matplotlib.lines.Line2D at 0x7ffb7d6ff828>"
            ]
          },
          "metadata": {
            "tags": []
          },
          "execution_count": 221
        },
        {
          "output_type": "display_data",
          "data": {
            "image/png": "[encoded data removed]",
            "text/plain": [
              "<Figure size 1440x360 with 1 Axes>"
            ]
          },
          "metadata": {
            "tags": []
          }
        }
      ]
    },
    {
      "cell_type": "code",
      "metadata": {
        "id": "FqkcGPC19bxs",
        "colab_type": "code",
        "colab": {
          "base_uri": "https://localhost:8080/",
          "height": 375
        },
        "outputId": "57f55651-1770-4981-8a53-2921cba5e87a"
      },
      "source": [
        "card_by_cate = resident_card.groupby([resident_card['STD_DD']]).sum().reset_index()\n",
        "card_by_cate = card_by_cate.iloc[:,5:28]\n",
        "index = [x for x in range(120)]\n",
        "val_19 = card_by_cate[:120].rolling(7).mean()\n",
        "val_20 = card_by_cate[120:-1].rolling(7).mean()\n",
        "val_20.index = index\n",
        "\n",
        "#19/20\n",
        "val = val_19 / val_20\n",
        "fig, axis = plt.subplots(figsize=(20,5))\n",
        "sns.barplot(data=pd.DataFrame(val.mean()).reset_index(), x=\"index\", y=0)\n",
        "axis.set_title('소비 위축 지수 업종별 차이',fontsize=14, fontproperties=set_font(size = 18))\n",
        "axis.set_ylabel('소비 위축 지수(건수)',fontproperties=set_font(size = 12))\n",
        "axis.set_xlabel('업종',fontproperties=set_font(size = 12))\n",
        "axis.axhline(y=1, color='r', linestyle='dashed', linewidth=1)"
      ],
      "execution_count": null,
      "outputs": [
        {
          "output_type": "execute_result",
          "data": {
            "text/plain": [
              "<matplotlib.lines.Line2D at 0x7ffb7ef72128>"
            ]
          },
          "metadata": {
            "tags": []
          },
          "execution_count": 222
        },
        {
          "output_type": "display_data",
          "data": {
            "image/png": "[encoded data removed]",
            "text/plain": [
              "<Figure size 1440x360 with 1 Axes>"
            ]
          },
          "metadata": {
            "tags": []
          }
        }
      ]
    },
    {
      "cell_type": "markdown",
      "metadata": {
        "id": "Ns1_X4nq9ucx",
        "colab_type": "text"
      },
      "source": [
        "대부분의 카테고리에서 평균적으로 금액도, 액수도 소비가 위축됨"
      ]
    },
    {
      "cell_type": "markdown",
      "metadata": {
        "id": "xWw4Jxgt_E6v",
        "colab_type": "text"
      },
      "source": [
        "# 업종별 소비위축지수와 온라인 소비 증가 지수 같이 본다면??\n",
        "## 가설-1) 온라인 전환률이 큰 업종이 덜 위축됬을 것이다.\n",
        "(물질재 서비스 업체 한정)"
      ]
    },
    {
      "cell_type": "code",
      "metadata": {
        "id": "ZlyHDZjD_TQr",
        "colab_type": "code",
        "colab": {}
      },
      "source": [
        "name = np.array(pd.read_csv('/content/drive/My Drive/bigcon/name_list.txt')).flatten()\n",
        "# 물질재에 대한 소비만 집계\n",
        "item = [ '레저용품(20)','문화취미(22)', '가구(30)', \n",
        "       '주방용구(32)', '광학제품(34)', '가전(35)', '유통업(40)', '의복(42)',\n",
        "       '직물(43)', '신변잡화(44)', '서적문구(50)', '사무통신(52)',\n",
        "        '보건위생(71)', '음료식품(81)']\n",
        "item = [x[-3:-1] + '_cnt' for x  in item]\n",
        "\n",
        "resident_card_item = resident_card[item].groupby(resident_card['STD_DD']).sum()\n",
        "resident_card_item = resident_card_item.reset_index()"
      ],
      "execution_count": null,
      "outputs": []
    },
    {
      "cell_type": "code",
      "metadata": {
        "id": "DKFfUScbWNEc",
        "colab_type": "code",
        "colab": {}
      },
      "source": [
        ""
      ],
      "execution_count": null,
      "outputs": []
    },
    {
      "cell_type": "markdown",
      "metadata": {
        "id": "pdQlKdIfS2Hi",
        "colab_type": "text"
      },
      "source": [
        "# 다른 유용한 지수 뭐가 있을까???"
      ]
    },
    {
      "cell_type": "code",
      "metadata": {
        "id": "JykBKbiDy1sr",
        "colab_type": "code",
        "colab": {}
      },
      "source": [
        "sns = pd.read_csv('/content/drive/My Drive/bigcon/2020 bigcontest data_wisenut.csv',sep='\u0007')\n",
        "sns.head()\n",
        "#코로나 언급시작점...\n",
        "#지역별 혹은 달별 sns"
      ],
      "execution_count": null,
      "outputs": []
    },
    {
      "cell_type": "markdown",
      "metadata": {
        "id": "krq88jXHSokN",
        "colab_type": "text"
      },
      "source": [
        "#보류\n",
        "---\n",
        "\n"
      ]
    },
    {
      "cell_type": "markdown",
      "metadata": {
        "id": "BGOmiAvsDYkg",
        "colab_type": "text"
      },
      "source": [
        "# 노인들이 온라인 커머스를 이용하지 않는 이유\n",
        "\n",
        "- 분석을 이용해서\n",
        "- 해당 부분들을 개선한 시스템\n",
        "- 결제 간소화, 노인 주거지역에 포스기를 설치, 생체정보로 결제"
      ]
    },
    {
      "cell_type": "code",
      "metadata": {
        "id": "Zr3aNvpZEjir",
        "colab_type": "code",
        "colab": {}
      },
      "source": [
        "# IOT장비 이용????"
      ],
      "execution_count": null,
      "outputs": []
    }
  ]
}